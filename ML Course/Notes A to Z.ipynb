{
 "cells": [
  {
   "cell_type": "markdown",
   "id": "b3d4f1bf",
   "metadata": {},
   "source": [
    "## Tools for Machine Learning\n",
    "- Matlab -> out of Fashion Scale is Hard.\n",
    "- R -> for Statistices Rupy for Algorithem Open Source Scale is Hard.\n",
    "- Torch-> Build with Lua Language.\n",
    "- Theano -> Python, Symbolic, Keras work with Vector\n",
    "- Scikit-Learn -> ML-Lib \n",
    "- TensorFlow -> half-Theano + half-Touch\n",
    "- Hadoof -> Maout for configuration Use for Large DataBase like Army DataSet. Any MANG Compnay DataSet\n",
    "- Caffe -> for DeepLearning"
   ]
  },
  {
   "cell_type": "markdown",
   "id": "3b25ed3c",
   "metadata": {},
   "source": [
    "## Geoffrey Hinton\n",
    "## Russel Salakhutdinov "
   ]
  },
  {
   "cell_type": "markdown",
   "id": "0a98f8b9",
   "metadata": {},
   "source": [
    "- X = R -> (Scaler) \n",
    "- X ∈ R^2 -> (Vector) for Two Values\n",
    "- Z ∈ R^3 -> for Board Information Height Width Color(10 , 9 , 0.8)\n",
    "- W ∈ (R^3)^2 -> (Matrix)  Two Board of information Like the Above\n",
    "- W ∈ (R^3^2^5) -> (Tensor mean 3 Dimension Array is Called Tensor) 5 Room has 2 Board with 3 Values like R^3\n",
    "- Verterization is a Technique to Code Faster"
   ]
  },
  {
   "cell_type": "markdown",
   "id": "0baa1425",
   "metadata": {},
   "source": [
    "## Domains of Machine Learning\n",
    "- Supervised Learning (We know Ground Reality)\n",
    "  - Regression -> continuous , Output target\n",
    "  - Classification -> Discrete\n",
    " - Unsupervised Learning (not know Ground Reality)\n",
    "   - Clustering\n",
    "   - Auto-encoders\n",
    "   - Dimensionality reduction (Video Compress)\n",
    "   - Topic modeling\n",
    "- Reinforcement Learning\n",
    "4th will start"
   ]
  },
  {
   "cell_type": "markdown",
   "id": "d0809ce1",
   "metadata": {},
   "source": [
    "## Mean Squared Error (MSE , Hinge , ReLv)\n",
    "\n",
    "Mean Squared Error is a commonly used metric to measure the average squared difference between the actual (true) values and the predicted values in a regression problem. It provides a quantitative measure of how well the predictions match the observed data.\n",
    "Cost , Loss , Energy , Error\n",
    "\n",
    "### Formula\n",
    "\n",
    "The formula for Mean Squared Error is given by:\n",
    "\n",
    "MSE= \n",
    "1/n\n",
    "​\n",
    " ∑ \n",
    "i=1\n",
    "n\n",
    "​\n",
    " (y \n",
    "true,i\n",
    "​\n",
    " −y \n",
    "pred,i\n",
    "​\n",
    " ) \n",
    "^2\n",
    "\n",
    "Where:\n",
    "- \\( n \\) is the number of data points.\n",
    "- \\( y_{\\text{true},i} \\) is the true (observed) value for the i-th data point.\n",
    "- \\( y_{\\text{pred},i} \\) is the predicted value for the i-th data point.\n",
    "\n",
    "The MSE formula calculates the average squared difference between the true and predicted values over all data points.\n",
    "\n",
    "### Interpretation\n",
    "\n",
    "- MSE values closer to zero indicate better model performance.\n",
    "- Larger MSE values indicate a greater discrepancy between predicted and actual values.\n",
    "\n",
    "It's important to note that MSE is sensitive to outliers, as the squared differences amplify their impact on the overall error.\n",
    "\n"
   ]
  },
  {
   "cell_type": "code",
   "execution_count": null,
   "id": "a73721f0",
   "metadata": {},
   "outputs": [],
   "source": []
  }
 ],
 "metadata": {
  "kernelspec": {
   "display_name": "Python 3 (ipykernel)",
   "language": "python",
   "name": "python3"
  },
  "language_info": {
   "codemirror_mode": {
    "name": "ipython",
    "version": 3
   },
   "file_extension": ".py",
   "mimetype": "text/x-python",
   "name": "python",
   "nbconvert_exporter": "python",
   "pygments_lexer": "ipython3",
   "version": "3.10.9"
  }
 },
 "nbformat": 4,
 "nbformat_minor": 5
}
