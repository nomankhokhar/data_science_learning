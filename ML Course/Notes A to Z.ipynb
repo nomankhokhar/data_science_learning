{
 "cells": [
  {
   "cell_type": "markdown",
   "id": "c1313e85",
   "metadata": {},
   "source": [
    "## Tools for Machine Learning\n",
    "- Matlab -> out of Fashion Scale is Hard.\n",
    "- R -> for Statistices Rupy for Algorithem Open Source Scale is Hard.\n",
    "- Torch-> Build with Lua Language.\n",
    "- Theano -> Python, Symbolic, Keras work with Vector\n",
    "- Scikit-Learn -> ML-Lib \n",
    "- TensorFlow -> half-Theano + half-Touch\n",
    "- Hadoof -> Maout for configuration Use for Large DataBase like Army DataSet. Any MANG Compnay DataSet\n",
    "- Caffe -> for DeepLearning"
   ]
  },
  {
   "cell_type": "code",
   "execution_count": null,
   "id": "dafcb65d",
   "metadata": {},
   "outputs": [],
   "source": []
  }
 ],
 "metadata": {
  "kernelspec": {
   "display_name": "Python 3 (ipykernel)",
   "language": "python",
   "name": "python3"
  },
  "language_info": {
   "codemirror_mode": {
    "name": "ipython",
    "version": 3
   },
   "file_extension": ".py",
   "mimetype": "text/x-python",
   "name": "python",
   "nbconvert_exporter": "python",
   "pygments_lexer": "ipython3",
   "version": "3.10.9"
  }
 },
 "nbformat": 4,
 "nbformat_minor": 5
}
