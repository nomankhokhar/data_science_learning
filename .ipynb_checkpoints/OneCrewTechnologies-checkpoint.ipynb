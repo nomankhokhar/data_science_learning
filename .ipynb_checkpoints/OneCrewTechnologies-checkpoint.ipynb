{
 "cells": [
  {
   "cell_type": "markdown",
   "id": "2b54fdf4",
   "metadata": {},
   "source": [
    "# Series"
   ]
  },
  {
   "cell_type": "code",
   "execution_count": 1,
   "id": "c06a7b0f",
   "metadata": {},
   "outputs": [],
   "source": [
    "import pandas as pd\n",
    "\n",
    "x = [3,4,5,6]\n",
    "\n",
    "var = pd.Series(x , index=['a','b','c','d'] , dtype='float' , name=\"Noman\")\n",
    "\n",
    "print(var)\n",
    "print(var[2])\n",
    "print(type(var))"
   ]
  },
  {
   "cell_type": "code",
   "execution_count": 2,
   "id": "5684587e",
   "metadata": {},
   "outputs": [],
   "source": [
    "dic = {\n",
    "    \"name\" : [\"Python\",\"C\",\"C++\",\"Java\"],\n",
    "    \"por\" : [12,13,14,15],\n",
    "    \"rank\" : [1,3,4,5],\n",
    "}\n",
    "\n",
    "dicVar = pd.Series(dic)\n",
    "\n",
    "print(dicVar)"
   ]
  },
  {
   "cell_type": "code",
   "execution_count": 3,
   "id": "bc37562f",
   "metadata": {},
   "outputs": [],
   "source": [
    "s = pd.Series(12, index=[1,2,3,4,5,6,7])\n",
    "\n",
    "print(s)\n",
    "print(type(s))"
   ]
  },
  {
   "cell_type": "code",
   "execution_count": 4,
   "id": "959415ee",
   "metadata": {},
   "outputs": [],
   "source": [
    "sOne = pd.Series(12, index=[1,2,3,4,5,6,7])\n",
    "sTwo = pd.Series(12, index=[1,2,3,4])\n",
    "\n",
    "print(sOne + sTwo)"
   ]
  },
  {
   "cell_type": "markdown",
   "id": "ff904ab3",
   "metadata": {},
   "source": [
    "# DataFrame"
   ]
  },
  {
   "cell_type": "code",
   "execution_count": 5,
   "id": "b81797e2",
   "metadata": {},
   "outputs": [],
   "source": [
    "lists = [1,2,3,4,5,6]\n",
    "\n",
    "var = pd.DataFrame(lists)\n",
    "\n",
    "print(var)\n",
    "print(type(var))"
   ]
  },
  {
   "cell_type": "code",
   "execution_count": 6,
   "id": "4fc63500",
   "metadata": {},
   "outputs": [],
   "source": [
    "diction = {'a': [1,2,3,4,5,6],\n",
    "           's': [1,2,3,4,5,6],\n",
    "           'd': [1,2,3,4,5,6],\n",
    "            1: [12,24,34,43,56,622]}\n",
    "\n",
    "# var = pd.DataFrame(diction, columns=['a',1,] , index=[\"a\",\"s\",\"d\",\"f\",\"g\",'h'])\n",
    "var = pd.DataFrame(diction)\n",
    "\n",
    "\n",
    "print(var)\n",
    "print(var['a'][3])"
   ]
  },
  {
   "cell_type": "code",
   "execution_count": 7,
   "id": "b6dfee9b",
   "metadata": {},
   "outputs": [],
   "source": [
    "list_1 = [[1,2,3,4,56],[3,4,5,6,7]]\n",
    "\n",
    "varList_1 = pd.DataFrame(list_1 , index=[\"a\",\"v\"])\n",
    "\n",
    "\n",
    "print(varList_1)\n",
    "print(type(varList_1))"
   ]
  },
  {
   "cell_type": "code",
   "execution_count": 8,
   "id": "93e75d9e",
   "metadata": {},
   "outputs": [],
   "source": [
    "sr = {'s': pd.Series([1,2,3,4]),\n",
    "      'r':pd.Series([1,2,3,4])}\n",
    "\n",
    "sr_var = pd.DataFrame(sr)\n",
    "\n",
    "print(sr_var)"
   ]
  },
  {
   "cell_type": "markdown",
   "id": "4b6ad745",
   "metadata": {},
   "source": [
    "# Arithmetic Operations"
   ]
  },
  {
   "cell_type": "code",
   "execution_count": 9,
   "id": "b5ee99d2",
   "metadata": {},
   "outputs": [],
   "source": [
    "var = pd.DataFrame({\n",
    "    'A' : [1,2,3,4],\n",
    "    'B' : [5,6,7,8],\n",
    "})\n",
    "\n",
    "var"
   ]
  },
  {
   "cell_type": "code",
   "execution_count": 10,
   "id": "14797fa4",
   "metadata": {},
   "outputs": [],
   "source": [
    "var['A+B'] = var['A'] + var['B']\n",
    "\n",
    "var"
   ]
  },
  {
   "cell_type": "code",
   "execution_count": 11,
   "id": "09732e5e",
   "metadata": {},
   "outputs": [],
   "source": [
    "var['A-B'] = var['A'] - var['B']\n",
    "\n",
    "var"
   ]
  },
  {
   "cell_type": "code",
   "execution_count": 12,
   "id": "af25ea8d",
   "metadata": {},
   "outputs": [],
   "source": [
    "var['A*B'] = var['A'] * var['B']\n",
    "\n",
    "var"
   ]
  },
  {
   "cell_type": "code",
   "execution_count": 13,
   "id": "7c5a05f4",
   "metadata": {},
   "outputs": [],
   "source": [
    "var['A/B'] = var['A'] / var['B']\n",
    "\n",
    "var"
   ]
  },
  {
   "cell_type": "code",
   "execution_count": 14,
   "id": "bf1735f4",
   "metadata": {},
   "outputs": [],
   "source": [
    "varOne = pd.DataFrame({\n",
    "    'A' : [10,20,30,40],\n",
    "    'B' : [50,60,70,80],\n",
    "})\n",
    "\n",
    "varOne"
   ]
  },
  {
   "cell_type": "code",
   "execution_count": 15,
   "id": "6f8a423a",
   "metadata": {},
   "outputs": [],
   "source": [
    "varOne['Morethan20_A'] = varOne[\"A\"] <= 20\n",
    "varOne['Morethan20_B'] = varOne[\"B\"] <= 20\n",
    "\n",
    "varOne"
   ]
  },
  {
   "cell_type": "markdown",
   "id": "2be3d132",
   "metadata": {},
   "source": [
    "# Inserting Data in DataFrame"
   ]
  },
  {
   "cell_type": "code",
   "execution_count": 16,
   "id": "1356bc6a",
   "metadata": {},
   "outputs": [],
   "source": [
    "inserting = pd.DataFrame({\n",
    "    'A' : [10,20,30,40],\n",
    "    'B' : [50,60,70,80],\n",
    "})\n",
    "\n",
    "\n",
    "# Index Column_Name data_for_inserting\n",
    "inserting.insert(1,\"Dublicate_of_A\", var['A'])\n",
    "inserting.insert(3,\"Dublicate_of_B\", var['B'])\n",
    "\n",
    "inserting"
   ]
  },
  {
   "cell_type": "code",
   "execution_count": 17,
   "id": "c838d3ed",
   "metadata": {},
   "outputs": [],
   "source": [
    "inserting.insert(4,\"NewColumns\", [12,34,45,46])\n",
    "\n",
    "inserting"
   ]
  },
  {
   "cell_type": "code",
   "execution_count": 18,
   "id": "fb670d97",
   "metadata": {},
   "outputs": [],
   "source": [
    "# Slice in Data Science\n",
    "inserting[\"Copy_Data_A\"] = inserting['A'][0:2]\n",
    "\n",
    "inserting"
   ]
  },
  {
   "cell_type": "markdown",
   "id": "5daff88b",
   "metadata": {},
   "source": [
    "# Delete in DataFrame"
   ]
  },
  {
   "cell_type": "code",
   "execution_count": 19,
   "id": "8ac56a53",
   "metadata": {},
   "outputs": [],
   "source": [
    "inserts = pd.DataFrame({\n",
    "    'A' : [0,2,3,4,5,6],\n",
    "    'B' : [3,5,6,7,6,8],\n",
    "    'C' : [3,5,6,7,6,8],\n",
    "})\n",
    "\n",
    "\n",
    "\n",
    "# Both are method to del the data in the Table\n",
    "popData = inserts.pop('B')\n",
    "del inserts['C']\n",
    "\n",
    "# popData # deleted data\n",
    "inserts"
   ]
  },
  {
   "cell_type": "markdown",
   "id": "062c4e23",
   "metadata": {},
   "source": [
    "# Write in CSV File"
   ]
  },
  {
   "cell_type": "code",
   "execution_count": 20,
   "id": "13e126bf",
   "metadata": {},
   "outputs": [],
   "source": [
    "dic = {\n",
    "    'A' : [0,2,3,4,5,6],\n",
    "    'B' : [3,5,6,7,6,8],\n",
    "    'C' : [3,5,6,7,6,8],\n",
    "}\n",
    "\n",
    "writeData = pd.DataFrame(dic)\n",
    "\n",
    "writeData"
   ]
  },
  {
   "cell_type": "code",
   "execution_count": 21,
   "id": "5231259c",
   "metadata": {},
   "outputs": [],
   "source": [
    "writeData.to_csv(\"test_new.csv\" , index=False , header = [1,2,3])"
   ]
  },
  {
   "cell_type": "markdown",
   "id": "de07fce8",
   "metadata": {},
   "source": [
    "# ReadData of CSV"
   ]
  },
  {
   "cell_type": "code",
   "execution_count": 22,
   "id": "f8912bd4",
   "metadata": {},
   "outputs": [],
   "source": [
    "readData = pd.read_csv(\"test_new.csv\")\n",
    "\n",
    "readData"
   ]
  },
  {
   "cell_type": "code",
   "execution_count": 23,
   "id": "0b22d745",
   "metadata": {},
   "outputs": [],
   "source": [
    "# Show only First 3 Rows with nrows=3 parameter\n",
    "readData = pd.read_csv(\"test_new.csv\" , nrows=3)\n",
    "\n",
    "readData"
   ]
  },
  {
   "cell_type": "code",
   "execution_count": 24,
   "id": "fb81ef8c",
   "metadata": {},
   "outputs": [],
   "source": [
    "# Show only array's columns\n",
    "readData = pd.read_csv(\"test_new.csv\" , usecols=[0,1])\n",
    "\n",
    "readData"
   ]
  },
  {
   "cell_type": "code",
   "execution_count": 25,
   "id": "da577503",
   "metadata": {},
   "outputs": [],
   "source": [
    "# skip the rows that are define in the Data\n",
    "\n",
    "readData = pd.read_csv(\"test_new.csv\" , usecols=[0,1], skiprows = [0,1,2])\n",
    "\n",
    "readData"
   ]
  },
  {
   "cell_type": "code",
   "execution_count": 26,
   "id": "3f78a78c",
   "metadata": {},
   "outputs": [],
   "source": [
    "# Specify Column Name will be the Index of the Data\n",
    "\n",
    "readData = pd.read_csv(\"test_new.csv\" , index_col = '1')\n",
    "\n",
    "readData"
   ]
  },
  {
   "cell_type": "code",
   "execution_count": 27,
   "id": "ddc07ef8",
   "metadata": {},
   "outputs": [],
   "source": [
    "# Specify Header Index Name will be the Header of the Data\n",
    "\n",
    "readData = pd.read_csv(\"test_new.csv\" , header = 2)\n",
    "\n",
    "readData"
   ]
  },
  {
   "cell_type": "code",
   "execution_count": 28,
   "id": "24860cab",
   "metadata": {},
   "outputs": [],
   "source": [
    "# Specify Header Index Name will be the Header of the Data\n",
    "\n",
    "readData = pd.read_csv(\"test_new.csv\" , names = ['col_1','col_2','col_3'])\n",
    "\n",
    "readData"
   ]
  },
  {
   "cell_type": "code",
   "execution_count": 29,
   "id": "e7b1a7c9",
   "metadata": {},
   "outputs": [],
   "source": [
    "# Specify Header Index Name will be the None and prefix will add the header\n",
    "\n",
    "readData = pd.read_csv(\"test_new.csv\" , header = None , prefix = 'col')\n",
    "\n",
    "readData"
   ]
  },
  {
   "cell_type": "code",
   "execution_count": null,
   "id": "ab935fb7",
   "metadata": {},
   "outputs": [],
   "source": []
  }
 ],
 "metadata": {
  "kernelspec": {
   "display_name": "Python 3 (ipykernel)",
   "language": "python",
   "name": "python3"
  },
  "language_info": {
   "codemirror_mode": {
    "name": "ipython",
    "version": 3
   },
   "file_extension": ".py",
   "mimetype": "text/x-python",
   "name": "python",
   "nbconvert_exporter": "python",
   "pygments_lexer": "ipython3",
   "version": "3.11.5"
  }
 },
 "nbformat": 4,
 "nbformat_minor": 5
}
