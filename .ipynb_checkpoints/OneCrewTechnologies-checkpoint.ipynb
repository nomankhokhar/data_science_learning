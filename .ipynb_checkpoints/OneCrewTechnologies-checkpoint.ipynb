{
 "cells": [
  {
   "cell_type": "markdown",
   "id": "99de93a3",
   "metadata": {},
   "source": [
    "# Load the Iris dataset into a Jupyter Notebook or your preferred coding environment."
   ]
  },
  {
   "cell_type": "code",
   "execution_count": 14,
   "id": "7b101fd3",
   "metadata": {},
   "outputs": [
    {
     "name": "stdout",
     "output_type": "stream",
     "text": [
      "   sepal length (cm)  sepal width (cm)  petal length (cm)  petal width (cm)  \\\n",
      "0                5.1               3.5                1.4               0.2   \n",
      "1                4.9               3.0                1.4               0.2   \n",
      "2                4.7               3.2                1.3               0.2   \n",
      "3                4.6               3.1                1.5               0.2   \n",
      "4                5.0               3.6                1.4               0.2   \n",
      "\n",
      "   target  \n",
      "0       0  \n",
      "1       0  \n",
      "2       0  \n",
      "3       0  \n",
      "4       0  \n"
     ]
    }
   ],
   "source": [
    "from sklearn import datasets\n",
    "\n",
    "# Load the Iris dataset\n",
    "iris = datasets.load_iris()\n",
    "\n",
    "# Access the data, target, feature names, and description\n",
    "data = iris.data\n",
    "target = iris.target\n",
    "feature_names = iris.feature_names\n",
    "description = iris.DESCR\n",
    "\n",
    "# Display the first few rows of the dataset\n",
    "import pandas as pd\n",
    "df = pd.DataFrame(data, columns=feature_names)\n",
    "df['target'] = target\n",
    "print(df.head())\n"
   ]
  },
  {
   "cell_type": "code",
   "execution_count": 15,
   "id": "bea97d90",
   "metadata": {},
   "outputs": [
    {
     "name": "stdout",
     "output_type": "stream",
     "text": [
      "Summary Statistics:\n",
      "       sepal length (cm)  sepal width (cm)  petal length (cm)  \\\n",
      "count         150.000000        150.000000         150.000000   \n",
      "mean            5.843333          3.057333           3.758000   \n",
      "std             0.828066          0.435866           1.765298   \n",
      "min             4.300000          2.000000           1.000000   \n",
      "25%             5.100000          2.800000           1.600000   \n",
      "50%             5.800000          3.000000           4.350000   \n",
      "75%             6.400000          3.300000           5.100000   \n",
      "max             7.900000          4.400000           6.900000   \n",
      "\n",
      "       petal width (cm)  \n",
      "count        150.000000  \n",
      "mean           1.199333  \n",
      "std            0.762238  \n",
      "min            0.100000  \n",
      "25%            0.300000  \n",
      "50%            1.300000  \n",
      "75%            1.800000  \n",
      "max            2.500000  \n",
      "\n",
      "Medians:\n",
      "sepal length (cm)    5.80\n",
      "sepal width (cm)     3.00\n",
      "petal length (cm)    4.35\n",
      "petal width (cm)     1.30\n",
      "dtype: float64\n"
     ]
    }
   ],
   "source": [
    "import pandas as pd\n",
    "from sklearn import datasets\n",
    "\n",
    "# Load the Iris dataset\n",
    "iris = datasets.load_iris()\n",
    "\n",
    "# Create a DataFrame from the dataset\n",
    "data = iris.data\n",
    "feature_names = iris.feature_names\n",
    "df = pd.DataFrame(data, columns=feature_names)\n",
    "\n",
    "# Calculate summary statistics\n",
    "summary_statistics = df.describe()\n",
    "\n",
    "# You can also calculate median separately\n",
    "medians = df.median()\n",
    "\n",
    "# Print the summary statistics\n",
    "print(\"Summary Statistics:\")\n",
    "print(summary_statistics)\n",
    "\n",
    "# Print the medians\n",
    "print(\"\\nMedians:\")\n",
    "print(medians)\n"
   ]
  },
  {
   "cell_type": "code",
   "execution_count": null,
   "id": "144b145d",
   "metadata": {},
   "outputs": [],
   "source": []
  }
 ],
 "metadata": {
  "kernelspec": {
   "display_name": "Python 3 (ipykernel)",
   "language": "python",
   "name": "python3"
  },
  "language_info": {
   "codemirror_mode": {
    "name": "ipython",
    "version": 3
   },
   "file_extension": ".py",
   "mimetype": "text/x-python",
   "name": "python",
   "nbconvert_exporter": "python",
   "pygments_lexer": "ipython3",
   "version": "3.10.9"
  }
 },
 "nbformat": 4,
 "nbformat_minor": 5
}
