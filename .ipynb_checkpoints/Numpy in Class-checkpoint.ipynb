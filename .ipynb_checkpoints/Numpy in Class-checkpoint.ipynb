{
 "cells": [
  {
   "cell_type": "code",
   "execution_count": 2,
   "id": "54194b9f",
   "metadata": {},
   "outputs": [
    {
     "data": {
      "text/plain": [
       "6"
      ]
     },
     "execution_count": 2,
     "metadata": {},
     "output_type": "execute_result"
    }
   ],
   "source": [
    "import numpy as np\n",
    "arr = np.array([[1,2,3],[3,4,5]])\n",
    "arr.ndim  ## Show how many dimension of an array\n",
    "arr.shape \n",
    "arr.dtype\n",
    "arr.size"
   ]
  },
  {
   "cell_type": "code",
   "execution_count": 8,
   "id": "9ca5d266",
   "metadata": {},
   "outputs": [
    {
     "data": {
      "text/plain": [
       "array([1, 2, 3, 4, 5, 6, 7])"
      ]
     },
     "execution_count": 8,
     "metadata": {},
     "output_type": "execute_result"
    }
   ],
   "source": [
    "barr = np.array([[1,2,3,4,5,6,7],[8,9,10,11,12,13,14]])\n",
    "barr[0,0]\n",
    "barr[0, ] "
   ]
  },
  {
   "cell_type": "code",
   "execution_count": 10,
   "id": "3b65ca13",
   "metadata": {},
   "outputs": [
    {
     "data": {
      "text/plain": [
       "array([2, 4, 6])"
      ]
     },
     "execution_count": 10,
     "metadata": {},
     "output_type": "execute_result"
    }
   ],
   "source": [
    "barr[0, 1:6:2]  ## Row : startIndex : endIndex : gap "
   ]
  },
  {
   "cell_type": "code",
   "execution_count": 11,
   "id": "ed68b008",
   "metadata": {},
   "outputs": [
    {
     "data": {
      "text/plain": [
       "array([[[1, 2],\n",
       "        [8, 9]]])"
      ]
     },
     "execution_count": 11,
     "metadata": {},
     "output_type": "execute_result"
    }
   ],
   "source": [
    "Drr = np.array([[[1,2],[8,9]] , [[10,20],[28,29]]])\n",
    "Drr[0:1:1]"
   ]
  },
  {
   "cell_type": "code",
   "execution_count": 13,
   "id": "5d99f156",
   "metadata": {},
   "outputs": [
    {
     "data": {
      "text/plain": [
       "array([[ 9, 11],\n",
       "       [38, 49]])"
      ]
     },
     "execution_count": 13,
     "metadata": {},
     "output_type": "execute_result"
    }
   ],
   "source": [
    "np.linspace(1,3,4)\n",
    "Drr.min()\n",
    "Drr.max()\n",
    "Drr.sum(axis=1)"
   ]
  },
  {
   "cell_type": "code",
   "execution_count": 14,
   "id": "43b16612",
   "metadata": {},
   "outputs": [
    {
     "name": "stdout",
     "output_type": "stream",
     "text": [
      "[0 1 2 3 4 5]\n"
     ]
    }
   ],
   "source": [
    "# this will create 0 to 6 Element's\n",
    "arrange = np.arange(6)\n",
    "print(arrange)"
   ]
  },
  {
   "cell_type": "code",
   "execution_count": 15,
   "id": "814a98dc",
   "metadata": {},
   "outputs": [
    {
     "name": "stdout",
     "output_type": "stream",
     "text": [
      "[1 2 3 4 5 6 7]\n"
     ]
    }
   ],
   "source": [
    "oneDarray = np.array([1,2,3,4,5,6,7])\n",
    "print(oneDarray)\n"
   ]
  },
  {
   "cell_type": "code",
   "execution_count": 16,
   "id": "d33a4de5",
   "metadata": {},
   "outputs": [
    {
     "name": "stdout",
     "output_type": "stream",
     "text": [
      "[[ 1  2  3  4  5]\n",
      " [ 2  3  4  5  6]\n",
      " [28 37 45 52 32]]\n",
      "3\n"
     ]
    }
   ],
   "source": [
    "twoDArray = np.array([[1,2,3,4,5]\n",
    "                     ,[2,3,4,5,6]\n",
    "                     ,[28,37,45,52,32]])\n",
    "\n",
    "\n",
    "print(twoDArray)\n",
    "\n",
    "# Exact Location of number\n",
    "print(twoDArray[0][2])\n"
   ]
  },
  {
   "cell_type": "code",
   "execution_count": 17,
   "id": "265d364b",
   "metadata": {},
   "outputs": [
    {
     "name": "stdout",
     "output_type": "stream",
     "text": [
      "[0. 0.]\n"
     ]
    }
   ],
   "source": [
    "\n",
    "# this will create 2 size of Array with zeros Value\n",
    "print(np.zeros(2))\n"
   ]
  },
  {
   "cell_type": "code",
   "execution_count": 18,
   "id": "4a74f7b3",
   "metadata": {},
   "outputs": [
    {
     "name": "stdout",
     "output_type": "stream",
     "text": [
      "[1 1]\n"
     ]
    }
   ],
   "source": [
    "# this will create 2 size of Array with one Value\n",
    "print(np.ones(2 , dtype=np.int64))"
   ]
  },
  {
   "cell_type": "code",
   "execution_count": 19,
   "id": "e06458eb",
   "metadata": {},
   "outputs": [
    {
     "name": "stdout",
     "output_type": "stream",
     "text": [
      "[5.e-324]\n"
     ]
    }
   ],
   "source": [
    "\n",
    "# this will create empty Array with two Value\n",
    "print(np.empty(1))\n"
   ]
  },
  {
   "cell_type": "code",
   "execution_count": 20,
   "id": "4c3dd452",
   "metadata": {},
   "outputs": [
    {
     "name": "stdout",
     "output_type": "stream",
     "text": [
      "[1 3 5 7 9]\n"
     ]
    }
   ],
   "source": [
    "# this will create range between first,last,step\n",
    "print(np.arange(1,10,2))\n"
   ]
  },
  {
   "cell_type": "code",
   "execution_count": 21,
   "id": "89e46d2a",
   "metadata": {},
   "outputs": [
    {
     "name": "stdout",
     "output_type": "stream",
     "text": [
      "[ 0.   2.5  5.   7.5 10. ]\n"
     ]
    }
   ],
   "source": [
    "# this will create array with intervals\n",
    "print(np.linspace(0,10, num=5))\n"
   ]
  },
  {
   "cell_type": "code",
   "execution_count": 22,
   "id": "24b5ca25",
   "metadata": {},
   "outputs": [
    {
     "name": "stdout",
     "output_type": "stream",
     "text": [
      "Sort the Array the Data :  [1 2 3 4 5 6 7 8]\n"
     ]
    }
   ],
   "source": [
    "arr = np.array([2, 1, 5, 3, 7, 4, 6, 8])\n",
    "# this wil return the new Array\n",
    "arr = np.sort(arr)\n",
    "print(\"Sort the Array the Data : \", arr)\n"
   ]
  },
  {
   "cell_type": "code",
   "execution_count": 23,
   "id": "e03044ea",
   "metadata": {},
   "outputs": [
    {
     "name": "stdout",
     "output_type": "stream",
     "text": [
      "[ 1  2  3  4 56 11 22 33 43 56]\n"
     ]
    }
   ],
   "source": [
    "OneArr = np.array([1,2,3,4,56])\n",
    "TwoArr = np.array([11,22,33,43,56])\n",
    "\n",
    "print(np.concatenate((OneArr, TwoArr)))\n"
   ]
  },
  {
   "cell_type": "code",
   "execution_count": 24,
   "id": "60f68329",
   "metadata": {},
   "outputs": [
    {
     "name": "stdout",
     "output_type": "stream",
     "text": [
      "[[1 2]\n",
      " [3 4]\n",
      " [5 6]]\n"
     ]
    }
   ],
   "source": [
    "x = np.array([ [1 , 2] , [3 , 4] ])\n",
    "y = np.array([[5, 6]])\n",
    "\n",
    "print(np.concatenate((x, y)))\n",
    "\n"
   ]
  },
  {
   "cell_type": "code",
   "execution_count": 25,
   "id": "b321a5bf",
   "metadata": {},
   "outputs": [
    {
     "name": "stdout",
     "output_type": "stream",
     "text": [
      "3 24 (3, 2, 4)\n"
     ]
    }
   ],
   "source": [
    "array_of_2D = np.array([[[0, 1, 2, 3],\n",
    "                           [4, 5, 6, 7]],\n",
    "\n",
    "                          [[0, 1, 2, 3],\n",
    "                           [4, 5, 6, 7]],\n",
    "\n",
    "                          [[0 ,1 ,2, 13],\n",
    "                           [4, 5, 6, 7]]])\n",
    "\n",
    "print(array_of_2D.ndim,\n",
    "array_of_2D.size, array_of_2D.shape)\n"
   ]
  },
  {
   "cell_type": "code",
   "execution_count": 26,
   "id": "a48b8af2",
   "metadata": {},
   "outputs": [
    {
     "name": "stdout",
     "output_type": "stream",
     "text": [
      "13\n"
     ]
    }
   ],
   "source": [
    "# Row -> then inner Row -> Column Number\n",
    "print(array_of_2D[2][0][3])\n"
   ]
  },
  {
   "cell_type": "code",
   "execution_count": 27,
   "id": "8d6cdedb",
   "metadata": {},
   "outputs": [
    {
     "name": "stdout",
     "output_type": "stream",
     "text": [
      "[[0 1]\n",
      " [2 3]\n",
      " [4 5]]\n",
      "[[0 1 2 3 4 5]]\n"
     ]
    }
   ],
   "source": [
    "# reShape the array\n",
    "arra = np.arange(6)\n",
    "reShape = arra.reshape(3,2)\n",
    "\n",
    "print(reShape)\n",
    "\n",
    "\n",
    "print(np.reshape(arra , newshape=(1, 6) , order='C'))\n"
   ]
  },
  {
   "cell_type": "code",
   "execution_count": 28,
   "id": "3b291de2",
   "metadata": {},
   "outputs": [
    {
     "data": {
      "text/plain": [
       "(1, 6)"
      ]
     },
     "execution_count": 28,
     "metadata": {},
     "output_type": "execute_result"
    }
   ],
   "source": [
    "a = np.array([1, 2, 3, 4, 5, 6])\n",
    "a.shape\n",
    "\n",
    "a2 = a[np.newaxis, :]\n",
    "a2.shape\n"
   ]
  },
  {
   "cell_type": "code",
   "execution_count": 29,
   "id": "78134a82",
   "metadata": {},
   "outputs": [
    {
     "data": {
      "text/plain": [
       "array([4, 5])"
      ]
     },
     "execution_count": 29,
     "metadata": {},
     "output_type": "execute_result"
    }
   ],
   "source": [
    "# Slice the data of an Array\n",
    "data = np.array([1,2,3,4,5])\n",
    "\n",
    "data[-2:]\n"
   ]
  },
  {
   "cell_type": "code",
   "execution_count": 30,
   "id": "f3b085bd",
   "metadata": {},
   "outputs": [
    {
     "name": "stdout",
     "output_type": "stream",
     "text": [
      "[ 6  7  8  9 10 11 12]\n"
     ]
    }
   ],
   "source": [
    "# data manipulation in the array\n",
    "arr = np.array([[1 , 2, 3, 4], [5, 6, 7, 8], [9, 10, 11, 12]])\n",
    "# this will check the condition at every value of array\n",
    "print(arr[arr > 5])\n"
   ]
  },
  {
   "cell_type": "code",
   "execution_count": 31,
   "id": "000e206e",
   "metadata": {},
   "outputs": [
    {
     "name": "stdout",
     "output_type": "stream",
     "text": [
      "[[False False False False]\n",
      " [ True  True  True  True]\n",
      " [ True  True  True  True]]\n",
      "Greater then 5 :  [ 5  6  7  8  9 10 11 12]\n"
     ]
    }
   ],
   "source": [
    "# greater then 5 in 2D array\n",
    "five_up = (arr >= 5)\n",
    "\n",
    "print(five_up)\n",
    "\n",
    "print(\"Greater then 5 : \" ,arr[five_up])\n"
   ]
  },
  {
   "cell_type": "code",
   "execution_count": 32,
   "id": "3d55ee0c",
   "metadata": {},
   "outputs": [
    {
     "name": "stdout",
     "output_type": "stream",
     "text": [
      "Divisible by 2 :  [ 2  4  6  8 10 12]\n",
      "Between 2 and 11 [ 3  4  5  6  7  8  9 10]\n",
      "Equal then 5 and greater then 5 :  [ 5  6  7  8  9 10 11 12]\n"
     ]
    }
   ],
   "source": [
    "# divisible by 2\n",
    "divisible_bt_2 = arr[arr % 2 == 0]\n",
    "\n",
    "print(\"Divisible by 2 : \",divisible_bt_2)\n",
    "\n",
    "print(\"Between 2 and 11\" , arr[(arr > 2) & (arr < 11)])\n",
    "\n",
    "print(\"Equal then 5 and greater then 5 : \", arr[(arr > 5) | (arr == 5)])\n"
   ]
  },
  {
   "cell_type": "code",
   "execution_count": 33,
   "id": "cef75f94",
   "metadata": {},
   "outputs": [
    {
     "name": "stdout",
     "output_type": "stream",
     "text": [
      "(array([0, 0, 0, 0, 1, 1, 1, 1, 2], dtype=int64), array([0, 1, 2, 3, 0, 1, 2, 3, 0], dtype=int64))\n",
      "[0 0 0 0 1 1 1 1 2]\n",
      "[0 1 2 3 0 1 2 3 0]\n"
     ]
    }
   ],
   "source": [
    "\n",
    "a = np.array([[1, 2, 3, 4], [5, 6, 7, 8], [9, 10, 11, 12]])\n",
    "b = np.nonzero(a < 10)\n",
    "\n",
    "print(b)\n",
    "print(b[0])\n",
    "print(b[1])\n"
   ]
  },
  {
   "cell_type": "code",
   "execution_count": 34,
   "id": "2e13df9e",
   "metadata": {},
   "outputs": [
    {
     "name": "stdout",
     "output_type": "stream",
     "text": [
      "[(0, 0), (0, 1), (0, 2), (0, 3), (1, 0), (1, 1), (1, 2), (1, 3), (2, 0)]\n",
      "(0, 0)\n",
      "(0, 1)\n",
      "(0, 2)\n",
      "(0, 3)\n",
      "(1, 0)\n",
      "(1, 1)\n",
      "(1, 2)\n",
      "(1, 3)\n",
      "(2, 0)\n"
     ]
    }
   ],
   "source": [
    "\n",
    "list_of_coordinates= list(zip(b[0], b[1]))\n",
    "\n",
    "print(list_of_coordinates)\n",
    "\n",
    "for coord in list_of_coordinates:\n",
    "    print(coord)\n"
   ]
  },
  {
   "cell_type": "code",
   "execution_count": 35,
   "id": "69854668",
   "metadata": {},
   "outputs": [
    {
     "name": "stdout",
     "output_type": "stream",
     "text": [
      "[[1 1]\n",
      " [2 2]\n",
      " [3 3]\n",
      " [4 4]] [[1 1 3 3]\n",
      " [2 2 4 4]]\n"
     ]
    }
   ],
   "source": [
    "arrONE = np.array([[1, 1],\n",
    "               [2, 2]])\n",
    "\n",
    "arrTWO = np.array([[3, 3],\n",
    "               [4, 4]])\n",
    "\n",
    "# first is Vertical and Second is Horizontal Stack\n",
    "print(np.vstack((arrONE, arrTWO)),\n",
    "      np.hstack((arrONE, arrTWO)))\n"
   ]
  },
  {
   "cell_type": "code",
   "execution_count": 36,
   "id": "baf3f2cb",
   "metadata": {},
   "outputs": [
    {
     "name": "stdout",
     "output_type": "stream",
     "text": [
      "[[1 1]\n",
      " [2 2]]\n",
      "[2 3]\n",
      "[0 1]\n",
      "[1 2]\n",
      "[1. 2.]\n",
      "3\n"
     ]
    }
   ],
   "source": [
    "copy_of_Arr = arrONE.copy()\n",
    "\n",
    "print(copy_of_Arr)\n",
    "\n",
    "\n",
    "\n",
    "# Arthematic Operation's\n",
    "\n",
    "data = np.array([1, 2])\n",
    "ones = np.ones(2, dtype=int)\n",
    "\n",
    "print(data+ones)\n",
    "print(data-ones)\n",
    "print(data*ones)\n",
    "print(data/ones)\n",
    "print(data.sum())\n"
   ]
  },
  {
   "cell_type": "code",
   "execution_count": 37,
   "id": "0d2660ae",
   "metadata": {},
   "outputs": [
    {
     "name": "stdout",
     "output_type": "stream",
     "text": [
      "[3 3] [2 4]\n",
      "2\n",
      "1\n",
      "6\n"
     ]
    }
   ],
   "source": [
    "# axis 0 rows or axis 1 column addition's\n",
    "b = np.array([[1, 1], [2, 2]])\n",
    "\n",
    "\n",
    "print(b.sum(axis=0),\n",
    "      b.sum(axis=1))\n",
    "print(b.max())\n",
    "print(b.min())\n",
    "print(b.sum())\n"
   ]
  },
  {
   "cell_type": "code",
   "execution_count": 38,
   "id": "8c55449d",
   "metadata": {},
   "outputs": [
    {
     "name": "stdout",
     "output_type": "stream",
     "text": [
      "[5 6]\n",
      "[2 4 6]\n"
     ]
    }
   ],
   "source": [
    "\n",
    "# Working with Matrix and you can also Run min, max, sum\n",
    "\n",
    "data = np.array([\n",
    "    [1,2],\n",
    "    [3,4],\n",
    "    [5,6]])\n",
    "\n",
    "# specifix Index Value \n",
    "data[0,1]\n",
    "# Slice method\n",
    "data[0:1]\n",
    "\n",
    "# axis=0 mean Y-axis \n",
    "# axis=1 mean X-axis \n",
    "\n",
    "# you can add/Minus/Subtract/Multiply\n",
    "\n",
    "print(data.max(axis=0))\n",
    "print(data.max(axis=1))\n"
   ]
  },
  {
   "cell_type": "code",
   "execution_count": 39,
   "id": "ce0dc4fc",
   "metadata": {},
   "outputs": [
    {
     "name": "stdout",
     "output_type": "stream",
     "text": [
      "[[[1. 1. 1. 1. 1. 1. 1. 1.]\n",
      "  [1. 1. 1. 1. 1. 1. 1. 1.]\n",
      "  [1. 1. 1. 1. 1. 1. 1. 1.]]\n",
      "\n",
      " [[1. 1. 1. 1. 1. 1. 1. 1.]\n",
      "  [1. 1. 1. 1. 1. 1. 1. 1.]\n",
      "  [1. 1. 1. 1. 1. 1. 1. 1.]]]\n",
      "[0.72764277 0.18668261 0.1912615 ]\n",
      "[ 1  2  3  4  5  6  7  8  9 10 11 12]\n"
     ]
    }
   ],
   "source": [
    "# this will define 5 Matirx with 3 by 8 Shape\n",
    "print(np.ones((2,3,8)))\n",
    "\n",
    "# random number generature\n",
    "rng = np.random.default_rng()\n",
    "print(rng.random(3))\n",
    "\n",
    "\n",
    "# Flatten the array\n",
    "x = np.array([[1 , 2, 3, 4], [5, 6, 7, 8], [9, 10, 11, 12]])\n",
    "\n",
    "print(x.flatten())"
   ]
  },
  {
   "cell_type": "code",
   "execution_count": null,
   "id": "fbd5a410",
   "metadata": {},
   "outputs": [],
   "source": []
  }
 ],
 "metadata": {
  "kernelspec": {
   "display_name": "Python 3 (ipykernel)",
   "language": "python",
   "name": "python3"
  },
  "language_info": {
   "codemirror_mode": {
    "name": "ipython",
    "version": 3
   },
   "file_extension": ".py",
   "mimetype": "text/x-python",
   "name": "python",
   "nbconvert_exporter": "python",
   "pygments_lexer": "ipython3",
   "version": "3.10.9"
  }
 },
 "nbformat": 4,
 "nbformat_minor": 5
}
