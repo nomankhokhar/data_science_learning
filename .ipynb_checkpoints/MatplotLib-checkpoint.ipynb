{
 "cells": [
  {
   "cell_type": "code",
   "execution_count": 11,
   "id": "37f38846",
   "metadata": {},
   "outputs": [
    {
     "name": "stdout",
     "output_type": "stream",
     "text": [
      "[2, 4, 6, 8, 10]\n"
     ]
    }
   ],
   "source": [
    "lst = [i for i in range(2,11,2)]\n",
    "print(lst)"
   ]
  },
  {
   "cell_type": "code",
   "execution_count": 17,
   "id": "0d156862",
   "metadata": {},
   "outputs": [
    {
     "name": "stdout",
     "output_type": "stream",
     "text": [
      "[1, 2, 3, 4, 5]\n"
     ]
    }
   ],
   "source": [
    "lst1 = [1,2,2,3,1,4,4,3,5]\n",
    "lst2 = []\n",
    "for i in lst1:\n",
    "    if lst2.count(i) == 0:\n",
    "        lst2.append(i)\n",
    "print(lst2)"
   ]
  },
  {
   "cell_type": "code",
   "execution_count": 34,
   "id": "a09cc187",
   "metadata": {},
   "outputs": [
    {
     "name": "stdout",
     "output_type": "stream",
     "text": [
      "(3, 2, 1)\n"
     ]
    }
   ],
   "source": [
    "tup = (1,2,3)\n",
    "tup = list(tup)\n",
    "tup.reverse()\n",
    "tup = tuple(tup)\n",
    "print(tup)"
   ]
  },
  {
   "cell_type": "code",
   "execution_count": 36,
   "id": "746383b4",
   "metadata": {},
   "outputs": [
    {
     "name": "stdout",
     "output_type": "stream",
     "text": [
      "dict_keys(['wahib', 'hammad', 'aliya'])\n",
      "dict_values([22, 23, 69])\n"
     ]
    }
   ],
   "source": [
    "stud = {\"wahib\" : 22, \"hammad\" : 23 , \"aliya\": 69}\n",
    "print(stud.keys())\n",
    "print(stud.values())"
   ]
  },
  {
   "cell_type": "code",
   "execution_count": 6,
   "id": "c36198a8",
   "metadata": {},
   "outputs": [
    {
     "name": "stdout",
     "output_type": "stream",
     "text": [
      "l\n",
      "c\n",
      "t\n",
      "r\n",
      "5\n"
     ]
    }
   ],
   "source": [
    "str1 = \"lecture5\"\n",
    "for i in str1:\n",
    "    if i == \"e\" or i == \"u\":\n",
    "        continue\n",
    "    else:\n",
    "        print(i)"
   ]
  },
  {
   "cell_type": "code",
   "execution_count": 24,
   "id": "54075adc",
   "metadata": {},
   "outputs": [
    {
     "ename": "TypeError",
     "evalue": "'str' object does not support item assignment",
     "output_type": "error",
     "traceback": [
      "\u001b[0;31m---------------------------------------------------------------------------\u001b[0m",
      "\u001b[0;31mTypeError\u001b[0m                                 Traceback (most recent call last)",
      "Cell \u001b[0;32mIn[24], line 3\u001b[0m\n\u001b[1;32m      1\u001b[0m str2 \u001b[38;5;241m=\u001b[39m \u001b[38;5;124m\"\u001b[39m\u001b[38;5;124mWelcome To Lecture 5\u001b[39m\u001b[38;5;124m\"\u001b[39m\n\u001b[0;32m----> 3\u001b[0m str2[\u001b[38;5;241m3\u001b[39m]\u001b[38;5;241m=\u001b[39m \u001b[38;5;124m'\u001b[39m\u001b[38;5;124mC\u001b[39m\u001b[38;5;124m'\u001b[39m\n\u001b[1;32m      4\u001b[0m \u001b[38;5;28mprint\u001b[39m(str2[\u001b[38;5;241m-\u001b[39m\u001b[38;5;241m1\u001b[39m:\u001b[38;5;28mlen\u001b[39m(str2)\u001b[38;5;241m*\u001b[39m\u001b[38;5;241m-\u001b[39m\u001b[38;5;241m1\u001b[39m:\u001b[38;5;241m-\u001b[39m\u001b[38;5;241m1\u001b[39m])\n",
      "\u001b[0;31mTypeError\u001b[0m: 'str' object does not support item assignment"
     ]
    }
   ],
   "source": [
    "str2 = \"Welcome To Lecture 5\"\n",
    "\n",
    "str2[3]= 'C'\n"
   ]
  },
  {
   "cell_type": "code",
   "execution_count": 27,
   "id": "cd74c0a0",
   "metadata": {},
   "outputs": [
    {
     "name": "stdout",
     "output_type": "stream",
     "text": [
      "5 erutceL oT emocleW\n"
     ]
    }
   ],
   "source": [
    "print(str2[-1:(len(str2)+1)*-1:-1])"
   ]
  },
  {
   "cell_type": "code",
   "execution_count": 31,
   "id": "837569f9",
   "metadata": {},
   "outputs": [],
   "source": [
    "str3 = str2\n",
    "del str3"
   ]
  },
  {
   "cell_type": "code",
   "execution_count": 32,
   "id": "9800f56c",
   "metadata": {},
   "outputs": [
    {
     "ename": "NameError",
     "evalue": "name 'str3' is not defined",
     "output_type": "error",
     "traceback": [
      "\u001b[0;31m---------------------------------------------------------------------------\u001b[0m",
      "\u001b[0;31mNameError\u001b[0m                                 Traceback (most recent call last)",
      "Cell \u001b[0;32mIn[32], line 1\u001b[0m\n\u001b[0;32m----> 1\u001b[0m \u001b[38;5;28mprint\u001b[39m(\u001b[43mstr3\u001b[49m)\n",
      "\u001b[0;31mNameError\u001b[0m: name 'str3' is not defined"
     ]
    }
   ],
   "source": [
    "print(str3)"
   ]
  },
  {
   "cell_type": "code",
   "execution_count": 33,
   "id": "bf23e778",
   "metadata": {},
   "outputs": [],
   "source": [
    "str3 = str2"
   ]
  },
  {
   "cell_type": "code",
   "execution_count": 36,
   "id": "9695696b",
   "metadata": {},
   "outputs": [
    {
     "data": {
      "text/plain": [
       "'belcome To Lecture 5'"
      ]
     },
     "execution_count": 36,
     "metadata": {},
     "output_type": "execute_result"
    }
   ],
   "source": [
    "str3.replace(\"W\",\"b\")"
   ]
  },
  {
   "cell_type": "code",
   "execution_count": 37,
   "id": "ae12ec40",
   "metadata": {},
   "outputs": [
    {
     "data": {
      "text/plain": [
       "'Welcome To Lecture 5'"
      ]
     },
     "execution_count": 37,
     "metadata": {},
     "output_type": "execute_result"
    }
   ],
   "source": [
    "str2"
   ]
  },
  {
   "cell_type": "code",
   "execution_count": 38,
   "id": "c704585d",
   "metadata": {},
   "outputs": [
    {
     "data": {
      "text/plain": [
       "True"
      ]
     },
     "execution_count": 38,
     "metadata": {},
     "output_type": "execute_result"
    }
   ],
   "source": [
    "\"W\" in str2"
   ]
  },
  {
   "cell_type": "code",
   "execution_count": 64,
   "id": "31b96383",
   "metadata": {},
   "outputs": [
    {
     "data": {
      "text/plain": [
       "'ali and asalam wow veri gud'"
      ]
     },
     "execution_count": 64,
     "metadata": {},
     "output_type": "execute_result"
    }
   ],
   "source": [
    "str3 = \"{} and {} wow veri gud\"\n",
    "str3.format(\"ali\",\"asalam\")"
   ]
  },
  {
   "cell_type": "code",
   "execution_count": 52,
   "id": "7c290315",
   "metadata": {},
   "outputs": [
    {
     "data": {
      "text/plain": [
       "'Welcome to lecture 5'"
      ]
     },
     "execution_count": 52,
     "metadata": {},
     "output_type": "execute_result"
    }
   ],
   "source": [
    "str2.capitalize()"
   ]
  },
  {
   "cell_type": "code",
   "execution_count": 62,
   "id": "a5f209c4",
   "metadata": {},
   "outputs": [
    {
     "name": "stdout",
     "output_type": "stream",
     "text": [
      "::::::::::::Welcome To Lecture 5::::::::::::\n"
     ]
    }
   ],
   "source": [
    "print(str2.center(44,\":\"))"
   ]
  },
  {
   "cell_type": "code",
   "execution_count": 65,
   "id": "e7a90b5a",
   "metadata": {},
   "outputs": [
    {
     "data": {
      "text/plain": [
       "False"
      ]
     },
     "execution_count": 65,
     "metadata": {},
     "output_type": "execute_result"
    }
   ],
   "source": [
    "str2.isalnum()"
   ]
  },
  {
   "cell_type": "code",
   "execution_count": 66,
   "id": "8c771d6e",
   "metadata": {},
   "outputs": [
    {
     "data": {
      "text/plain": [
       "False"
      ]
     },
     "execution_count": 66,
     "metadata": {},
     "output_type": "execute_result"
    }
   ],
   "source": [
    "str2.isidentifier()"
   ]
  },
  {
   "cell_type": "code",
   "execution_count": 67,
   "id": "8e0065c6",
   "metadata": {},
   "outputs": [
    {
     "data": {
      "text/plain": [
       "True"
      ]
     },
     "execution_count": 67,
     "metadata": {},
     "output_type": "execute_result"
    }
   ],
   "source": [
    "\"int\".isidentifier()"
   ]
  },
  {
   "cell_type": "code",
   "execution_count": 75,
   "id": "18e56153",
   "metadata": {},
   "outputs": [
    {
     "data": {
      "text/plain": [
       "'WELCOME TO LECTURE 5'"
      ]
     },
     "execution_count": 75,
     "metadata": {},
     "output_type": "execute_result"
    }
   ],
   "source": [
    "str2.islower()\n",
    "str2.isupper()\n",
    "str2.isspace()\n",
    "str2.upper()"
   ]
  },
  {
   "cell_type": "code",
   "execution_count": 83,
   "id": "03f4a49d",
   "metadata": {},
   "outputs": [
    {
     "data": {
      "text/plain": [
       "'wow'"
      ]
     },
     "execution_count": 83,
     "metadata": {},
     "output_type": "execute_result"
    }
   ],
   "source": [
    "str3=\"  wow\"\n",
    "str3.rstrip(\"w\")\n",
    "str3.lstrip(\" \")"
   ]
  },
  {
   "cell_type": "markdown",
   "id": "074fc2ea",
   "metadata": {},
   "source": [
    "## Data Sciaonce Lec 5\n",
    "- capitalize()\n",
    "- center()\n",
    "- isalnum()\n",
    "- isal()\n",
    "- isidentifier()\n",
    "- islower()\n",
    "- isupper()\n",
    "- isnumeric()\n",
    "- lower()\n",
    "- lstrip()\n",
    "- rstrip()"
   ]
  },
  {
   "cell_type": "code",
   "execution_count": 132,
   "id": "b324be80",
   "metadata": {},
   "outputs": [
    {
     "name": "stdout",
     "output_type": "stream",
     "text": [
      "[1, 5, 3, 2, 4, 5]\n"
     ]
    }
   ],
   "source": [
    "lst = [1,5,3,2,4,5]\n",
    "print(lst)"
   ]
  },
  {
   "cell_type": "code",
   "execution_count": 107,
   "id": "c9f7cb2b",
   "metadata": {},
   "outputs": [],
   "source": [
    "def iseven(num):\n",
    "    if num == 2:\n",
    "        return True\n",
    "    elif num == 1:\n",
    "        return False\n",
    "    else:\n",
    "        return iseven(num-2)"
   ]
  },
  {
   "cell_type": "code",
   "execution_count": 108,
   "id": "2f702c0e",
   "metadata": {},
   "outputs": [
    {
     "name": "stdout",
     "output_type": "stream",
     "text": [
      "False\n"
     ]
    }
   ],
   "source": [
    "print(iseven(4013))"
   ]
  },
  {
   "cell_type": "code",
   "execution_count": 103,
   "id": "f0702184",
   "metadata": {},
   "outputs": [
    {
     "name": "stdout",
     "output_type": "stream",
     "text": [
      "[1, 2, 3, 4, 5]\n"
     ]
    }
   ],
   "source": [
    "print([i for i in lst])"
   ]
  },
  {
   "cell_type": "code",
   "execution_count": 133,
   "id": "c70bbc6b",
   "metadata": {},
   "outputs": [],
   "source": [
    "lst2 = [lst[i] for i in range(0,len(lst)) if lst[i:len(lst)].count(lst[i])==1]"
   ]
  },
  {
   "cell_type": "code",
   "execution_count": 134,
   "id": "441ce9ee",
   "metadata": {},
   "outputs": [
    {
     "data": {
      "text/plain": [
       "[1, 3, 2, 4, 5]"
      ]
     },
     "execution_count": 134,
     "metadata": {},
     "output_type": "execute_result"
    }
   ],
   "source": [
    "lst2"
   ]
  },
  {
   "cell_type": "code",
   "execution_count": 125,
   "id": "99365774",
   "metadata": {},
   "outputs": [
    {
     "data": {
      "text/plain": [
       "0"
      ]
     },
     "execution_count": 125,
     "metadata": {},
     "output_type": "execute_result"
    }
   ],
   "source": [
    "mytup1 = (45,45,45,54)\n",
    "mytup2 = (67,676,67,67)\n",
    "mytup1.count(2)"
   ]
  },
  {
   "cell_type": "code",
   "execution_count": 146,
   "id": "7d811f8e",
   "metadata": {},
   "outputs": [
    {
     "name": "stdout",
     "output_type": "stream",
     "text": [
      "{'su', 'f', 's'}\n",
      "{'th', 'm', 's', 'pakistan', 'f', 'w', 't', 'su'}\n",
      "{'su', 'f', 's'}\n",
      "{'th', 'm', 's', 'pakistan', 'f', 'w', 't', 'su'}\n",
      "{'th', 't', 'w', 'm'}\n"
     ]
    },
    {
     "ename": "TypeError",
     "evalue": "unsupported operand type(s) for *: 'set' and 'set'",
     "output_type": "error",
     "traceback": [
      "\u001b[0;31m---------------------------------------------------------------------------\u001b[0m",
      "\u001b[0;31mTypeError\u001b[0m                                 Traceback (most recent call last)",
      "Cell \u001b[0;32mIn[146], line 12\u001b[0m\n\u001b[1;32m     10\u001b[0m \u001b[38;5;28mprint\u001b[39m(week\u001b[38;5;241m.\u001b[39munion(weekends))\n\u001b[1;32m     11\u001b[0m \u001b[38;5;28mprint\u001b[39m(week\u001b[38;5;241m-\u001b[39mweekends)\n\u001b[0;32m---> 12\u001b[0m \u001b[38;5;28mprint\u001b[39m(\u001b[43mweek\u001b[49m\u001b[38;5;241;43m*\u001b[39;49m\u001b[43mweekends\u001b[49m)\n",
      "\u001b[0;31mTypeError\u001b[0m: unsupported operand type(s) for *: 'set' and 'set'"
     ]
    }
   ],
   "source": [
    "week = {\"m\", \"w\", \"t\", \"th\"}\n",
    "week.add(\"f\")\n",
    "week.add(\"s\")\n",
    "week.add(\"su\")\n",
    "\n",
    "weekends = {\"f\", \"s\",\"su\", \"pakistan\"}\n",
    "print(week.intersection(weekends))\n",
    "print(week|weekends)\n",
    "print(week&weekends)\n",
    "print(week.union(weekends))\n",
    "print(week-weekends)\n",
    "print(week*weekends)"
   ]
  },
  {
   "cell_type": "code",
   "execution_count": 26,
   "id": "f0ffb0ee",
   "metadata": {},
   "outputs": [
    {
     "data": {
      "text/plain": [
       "['1', 'A', 'a']"
      ]
     },
     "execution_count": 26,
     "metadata": {},
     "output_type": "execute_result"
    }
   ],
   "source": [
    "dic = {\n",
    "    \"1\":\"23\",\n",
    "    \"a\":\"32\",\n",
    "    \"A\":\"1\"\n",
    "}\n",
    "sorted(dic)"
   ]
  },
  {
   "cell_type": "code",
   "execution_count": 17,
   "id": "689428c4",
   "metadata": {},
   "outputs": [],
   "source": [
    "\n",
    "dic.clear()"
   ]
  },
  {
   "cell_type": "code",
   "execution_count": 24,
   "id": "7ef0982b",
   "metadata": {},
   "outputs": [
    {
     "data": {
      "text/plain": [
       "'1'"
      ]
     },
     "execution_count": 24,
     "metadata": {},
     "output_type": "execute_result"
    }
   ],
   "source": [
    "dic.pop(\"A\")"
   ]
  },
  {
   "cell_type": "code",
   "execution_count": 27,
   "id": "45ee5864",
   "metadata": {},
   "outputs": [
    {
     "ename": "NameError",
     "evalue": "name 'item' is not defined",
     "output_type": "error",
     "traceback": [
      "\u001b[0;31m---------------------------------------------------------------------------\u001b[0m",
      "\u001b[0;31mNameError\u001b[0m                                 Traceback (most recent call last)",
      "Cell \u001b[0;32mIn[27], line 1\u001b[0m\n\u001b[0;32m----> 1\u001b[0m \u001b[43mitem\u001b[49m\n",
      "\u001b[0;31mNameError\u001b[0m: name 'item' is not defined"
     ]
    }
   ],
   "source": [
    "item\n",
    "get\n",
    "update\n",
    "keys\n",
    "values\n",
    "copy\n",
    "clear"
   ]
  },
  {
   "cell_type": "code",
   "execution_count": 44,
   "id": "3531adb5",
   "metadata": {},
   "outputs": [
    {
     "data": {
      "text/plain": [
       "'0b1010'"
      ]
     },
     "execution_count": 44,
     "metadata": {},
     "output_type": "execute_result"
    }
   ],
   "source": [
    "x=10\n",
    "bin(x)"
   ]
  },
  {
   "cell_type": "code",
   "execution_count": 45,
   "id": "e9f6a1ff",
   "metadata": {},
   "outputs": [
    {
     "data": {
      "text/plain": [
       "11"
      ]
     },
     "execution_count": 45,
     "metadata": {},
     "output_type": "execute_result"
    }
   ],
   "source": [
    "eval(str(x)+\"+ 1\")"
   ]
  },
  {
   "cell_type": "code",
   "execution_count": 46,
   "id": "ef6b3d7e",
   "metadata": {},
   "outputs": [
    {
     "data": {
      "text/plain": [
       "8"
      ]
     },
     "execution_count": 46,
     "metadata": {},
     "output_type": "execute_result"
    }
   ],
   "source": [
    "2**3"
   ]
  },
  {
   "cell_type": "code",
   "execution_count": 47,
   "id": "6aa83305",
   "metadata": {},
   "outputs": [
    {
     "data": {
      "text/plain": [
       "range(0, 7)"
      ]
     },
     "execution_count": 47,
     "metadata": {},
     "output_type": "execute_result"
    }
   ],
   "source": [
    "range(7)"
   ]
  },
  {
   "cell_type": "code",
   "execution_count": 48,
   "id": "d492b41f",
   "metadata": {},
   "outputs": [
    {
     "data": {
      "text/plain": [
       "range(0, 7)"
      ]
     },
     "execution_count": 48,
     "metadata": {},
     "output_type": "execute_result"
    }
   ],
   "source": [
    "range(0,7)"
   ]
  },
  {
   "cell_type": "code",
   "execution_count": 54,
   "id": "aaf967df",
   "metadata": {},
   "outputs": [],
   "source": [
    " x = [x for x in range(7)]"
   ]
  },
  {
   "cell_type": "code",
   "execution_count": 55,
   "id": "11ad997a",
   "metadata": {},
   "outputs": [
    {
     "data": {
      "text/plain": [
       "[0, 1, 2, 3, 4, 5, 6]"
      ]
     },
     "execution_count": 55,
     "metadata": {},
     "output_type": "execute_result"
    }
   ],
   "source": [
    "x"
   ]
  },
  {
   "cell_type": "markdown",
   "id": "a210702f",
   "metadata": {},
   "source": [
    "# Activity Student Record"
   ]
  },
  {
   "cell_type": "code",
   "execution_count": 57,
   "id": "f921071d",
   "metadata": {},
   "outputs": [],
   "source": [
    "record = {\n",
    "    1:(\"Hentai Lover\",21,[\"CC\",\"DB\",\"DSA\"],[24,22,15]),\n",
    "    2:(\"BB\",21,[\"ITC\",\"PF\",\"WEB\"],[22,13,5]),\n",
    "    3:(\"Abubow\",61,[\"TOA\",\"Phyl\",\"CCN\"],[40,4,41]),\n",
    "    4:(\"Wahib\",22,[\"CC\",\"DB\",\"DSA\"],[99,98,99])\n",
    "}"
   ]
  },
  {
   "cell_type": "code",
   "execution_count": 58,
   "id": "0f019091",
   "metadata": {},
   "outputs": [
    {
     "data": {
      "text/plain": [
       "{1: ('Hentai Lover', 21, ['CC', 'DB', 'DSA'], [24, 22, 15]),\n",
       " 2: ('BB', 21, ['ITC', 'PF', 'WEB'], [22, 13, 5]),\n",
       " 3: ('Abubow', 61, ['TOA', 'Phyl', 'CCN'], [40, 4, 41]),\n",
       " 4: ('Wahib', 22, ['CC', 'DB', 'DSA'], [99, 98, 99])}"
      ]
     },
     "execution_count": 58,
     "metadata": {},
     "output_type": "execute_result"
    }
   ],
   "source": [
    "record"
   ]
  },
  {
   "cell_type": "code",
   "execution_count": 73,
   "id": "1a4a9caa",
   "metadata": {},
   "outputs": [
    {
     "name": "stdout",
     "output_type": "stream",
     "text": [
      "[20.333333333333332, 13.333333333333334, 28.333333333333332, 98.66666666666667]\n"
     ]
    }
   ],
   "source": [
    "average = []\n",
    "for i in record:\n",
    "    score = record[i][3]\n",
    "    avg = 0\n",
    "    for j in score:\n",
    "        avg += j\n",
    "    avg /= len(score)\n",
    "    average.append(avg)\n",
    "print(average)"
   ]
  },
  {
   "cell_type": "code",
   "execution_count": 90,
   "id": "fdf159b5",
   "metadata": {},
   "outputs": [
    {
     "name": "stdout",
     "output_type": "stream",
     "text": [
      "('Wahib', 22, ['CC', 'DB', 'DSA'], [99, 98, 99])\n"
     ]
    }
   ],
   "source": [
    "high = max(average)\n",
    "index = 0\n",
    "for i in range(len(score)+1):\n",
    "    if average[i] == high:\n",
    "        index = i\n",
    "print(record[index+1])"
   ]
  },
  {
   "cell_type": "code",
   "execution_count": 93,
   "id": "9d8e0010",
   "metadata": {},
   "outputs": [],
   "source": [
    "stud = record[2]\n",
    "stud = list(stud)\n",
    "stud[1] = 18\n",
    "record[2] = tuple(stud)"
   ]
  },
  {
   "cell_type": "code",
   "execution_count": 94,
   "id": "7b45f49d",
   "metadata": {},
   "outputs": [
    {
     "data": {
      "text/plain": [
       "{1: ('Hentai Lover', 21, ['CC', 'DB', 'DSA'], [24, 22, 15]),\n",
       " 2: ('BB', 18, ['ITC', 'PF', 'WEB'], [22, 13, 5]),\n",
       " 3: ('Abubow', 61, ['TOA', 'Phyl', 'CCN'], [40, 4, 41]),\n",
       " 4: ('Wahib', 22, ['CC', 'DB', 'DSA'], [99, 98, 99])}"
      ]
     },
     "execution_count": 94,
     "metadata": {},
     "output_type": "execute_result"
    }
   ],
   "source": []
  },
  {
   "cell_type": "code",
   "execution_count": 1,
   "id": "ec87bde8",
   "metadata": {},
   "outputs": [
    {
     "name": "stdout",
     "output_type": "stream",
     "text": [
      "{\\rtf1\\ansi\\ansicpg1252\\cocoartf2580\n",
      "\\cocoatextscaling0\\cocoaplatform0{\\fonttbl\\f0\\fswiss\\fcharset0 Helvetica;}\n",
      "{\\colortbl;\\red255\\green255\\blue255;}\n",
      "{\\*\\expandedcolortbl;;}\n",
      "\\paperw11900\\paperh16840\\margl1440\\margr1440\\vieww11520\\viewh8400\\viewkind0\n",
      "\\pard\\tx720\\tx1440\\tx2160\\tx2880\\tx3600\\tx4320\\tx5040\\tx5760\\tx6480\\tx7200\\tx7920\\tx8640\\pardirnatural\\partightenfactor0\n",
      "\n",
      "\\f0\\fs24 \\cf0 test\\\n",
      "1 2 3}\n"
     ]
    }
   ],
   "source": [
    "with open(\"text.txt\",\"r\") as file:\n",
    "    content = file.read()\n",
    "    print(content)"
   ]
  },
  {
   "cell_type": "code",
   "execution_count": 8,
   "id": "66ee07cd",
   "metadata": {},
   "outputs": [
    {
     "ename": "FileNotFoundError",
     "evalue": "[Errno 2] No such file or directory: '~/.Desktop/.Data Science/text.txt'",
     "output_type": "error",
     "traceback": [
      "\u001b[0;31m---------------------------------------------------------------------------\u001b[0m",
      "\u001b[0;31mFileNotFoundError\u001b[0m                         Traceback (most recent call last)",
      "Cell \u001b[0;32mIn[8], line 1\u001b[0m\n\u001b[0;32m----> 1\u001b[0m \u001b[38;5;28;01mwith\u001b[39;00m \u001b[38;5;28;43mopen\u001b[39;49m\u001b[43m(\u001b[49m\u001b[38;5;124;43m\"\u001b[39;49m\u001b[38;5;124;43m~/.Desktop/.Data Science/text.txt\u001b[39;49m\u001b[38;5;124;43m\"\u001b[39;49m\u001b[43m,\u001b[49m\u001b[38;5;124;43m\"\u001b[39;49m\u001b[38;5;124;43mr\u001b[39;49m\u001b[38;5;124;43m\"\u001b[39;49m\u001b[43m)\u001b[49m \u001b[38;5;28;01mas\u001b[39;00m file:\n\u001b[1;32m      2\u001b[0m     content \u001b[38;5;241m=\u001b[39m file\u001b[38;5;241m.\u001b[39mread()\n\u001b[1;32m      3\u001b[0m     \u001b[38;5;28mprint\u001b[39m(content)\n",
      "File \u001b[0;32m~/anaconda3/lib/python3.10/site-packages/IPython/core/interactiveshell.py:282\u001b[0m, in \u001b[0;36m_modified_open\u001b[0;34m(file, *args, **kwargs)\u001b[0m\n\u001b[1;32m    275\u001b[0m \u001b[38;5;28;01mif\u001b[39;00m file \u001b[38;5;129;01min\u001b[39;00m {\u001b[38;5;241m0\u001b[39m, \u001b[38;5;241m1\u001b[39m, \u001b[38;5;241m2\u001b[39m}:\n\u001b[1;32m    276\u001b[0m     \u001b[38;5;28;01mraise\u001b[39;00m \u001b[38;5;167;01mValueError\u001b[39;00m(\n\u001b[1;32m    277\u001b[0m         \u001b[38;5;124mf\u001b[39m\u001b[38;5;124m\"\u001b[39m\u001b[38;5;124mIPython won\u001b[39m\u001b[38;5;124m'\u001b[39m\u001b[38;5;124mt let you open fd=\u001b[39m\u001b[38;5;132;01m{\u001b[39;00mfile\u001b[38;5;132;01m}\u001b[39;00m\u001b[38;5;124m by default \u001b[39m\u001b[38;5;124m\"\u001b[39m\n\u001b[1;32m    278\u001b[0m         \u001b[38;5;124m\"\u001b[39m\u001b[38;5;124mas it is likely to crash IPython. If you know what you are doing, \u001b[39m\u001b[38;5;124m\"\u001b[39m\n\u001b[1;32m    279\u001b[0m         \u001b[38;5;124m\"\u001b[39m\u001b[38;5;124myou can use builtins\u001b[39m\u001b[38;5;124m'\u001b[39m\u001b[38;5;124m open.\u001b[39m\u001b[38;5;124m\"\u001b[39m\n\u001b[1;32m    280\u001b[0m     )\n\u001b[0;32m--> 282\u001b[0m \u001b[38;5;28;01mreturn\u001b[39;00m \u001b[43mio_open\u001b[49m\u001b[43m(\u001b[49m\u001b[43mfile\u001b[49m\u001b[43m,\u001b[49m\u001b[43m \u001b[49m\u001b[38;5;241;43m*\u001b[39;49m\u001b[43margs\u001b[49m\u001b[43m,\u001b[49m\u001b[43m \u001b[49m\u001b[38;5;241;43m*\u001b[39;49m\u001b[38;5;241;43m*\u001b[39;49m\u001b[43mkwargs\u001b[49m\u001b[43m)\u001b[49m\n",
      "\u001b[0;31mFileNotFoundError\u001b[0m: [Errno 2] No such file or directory: '~/.Desktop/.Data Science/text.txt'"
     ]
    }
   ],
   "source": [
    "with open(\"~/.Desktop/.Data Science/text.txt\",\"r\") as file:\n",
    "    content = file.read()\n",
    "    print(content)"
   ]
  },
  {
   "cell_type": "code",
   "execution_count": 13,
   "id": "262c666e",
   "metadata": {},
   "outputs": [
    {
     "name": "stdout",
     "output_type": "stream",
     "text": [
      "22\n"
     ]
    }
   ],
   "source": [
    "class a:\n",
    "    name=\"\"\n",
    "    age=0\n",
    "    def __init__(self,n,a):\n",
    "        self.name = n\n",
    "        self.age = a\n",
    "\n",
    "obj = a(\"wahib\",22)\n",
    "print(obj.age)"
   ]
  },
  {
   "cell_type": "markdown",
   "id": "5d1a2e30",
   "metadata": {},
   "source": [
    "# numpy types :\n",
    "### boolean \n",
    "### integer(int c,int p,int8,int16,int32,int64)\n",
    "### float (float16,float32,float64)\n",
    "### complex 64 & 128\n",
    "## Numpy function empty"
   ]
  },
  {
   "cell_type": "code",
   "execution_count": 28,
   "id": "4bde0fe2",
   "metadata": {},
   "outputs": [
    {
     "name": "stdout",
     "output_type": "stream",
     "text": [
      "[[1 2]\n",
      " [3 4]\n",
      " [5 3]]\n"
     ]
    }
   ],
   "source": [
    "import numpy as np\n",
    "tup = [[1,2],[3,4],[5,3]]\n",
    "arr = np.asarray(tup)\n",
    "print(arr)"
   ]
  },
  {
   "cell_type": "code",
   "execution_count": 32,
   "id": "9853ad2c",
   "metadata": {},
   "outputs": [
    {
     "data": {
      "text/plain": [
       "array([1. , 1.2, 1.4, 1.6, 1.8, 2. , 2.2, 2.4, 2.6, 2.8, 3. , 3.2, 3.4,\n",
       "       3.6, 3.8, 4. , 4.2, 4.4, 4.6, 4.8, 5. , 5.2, 5.4, 5.6, 5.8, 6. ,\n",
       "       6.2, 6.4, 6.6, 6.8, 7. , 7.2, 7.4, 7.6, 7.8, 8. , 8.2, 8.4, 8.6,\n",
       "       8.8, 9. , 9.2, 9.4, 9.6, 9.8])"
      ]
     },
     "execution_count": 32,
     "metadata": {},
     "output_type": "execute_result"
    }
   ],
   "source": [
    "arr = np.arange(1,10,0.2,dtype=float)\n",
    "arr"
   ]
  },
  {
   "cell_type": "code",
   "execution_count": 53,
   "id": "b03f47c0",
   "metadata": {},
   "outputs": [
    {
     "data": {
      "text/plain": [
       "array([ 0. ,  0.5,  1. ,  1.5,  2. ,  2.5,  3. ,  3.5,  4. ,  4.5,  5. ,\n",
       "        5.5,  6. ,  6.5,  7. ,  7.5,  8. ,  8.5,  9. ,  9.5, 10. ])"
      ]
     },
     "execution_count": 53,
     "metadata": {},
     "output_type": "execute_result"
    }
   ],
   "source": [
    "arr = np.linspace(0,10.0,21)\n",
    "arr"
   ]
  },
  {
   "cell_type": "code",
   "execution_count": 54,
   "id": "faef1189",
   "metadata": {},
   "outputs": [
    {
     "ename": "ValueError",
     "evalue": "operands could not be broadcast together with shapes (3,2) (4,4) ",
     "output_type": "error",
     "traceback": [
      "\u001b[0;31m---------------------------------------------------------------------------\u001b[0m",
      "\u001b[0;31mValueError\u001b[0m                                Traceback (most recent call last)",
      "Cell \u001b[0;32mIn[54], line 3\u001b[0m\n\u001b[1;32m      1\u001b[0m arr1 \u001b[38;5;241m=\u001b[39m np\u001b[38;5;241m.\u001b[39mzeros((\u001b[38;5;241m3\u001b[39m,\u001b[38;5;241m2\u001b[39m),dtype\u001b[38;5;241m=\u001b[39m\u001b[38;5;28mint\u001b[39m)\n\u001b[1;32m      2\u001b[0m arr2 \u001b[38;5;241m=\u001b[39m np\u001b[38;5;241m.\u001b[39mzeros((\u001b[38;5;241m4\u001b[39m,\u001b[38;5;241m4\u001b[39m),dtype\u001b[38;5;241m=\u001b[39m\u001b[38;5;28mint\u001b[39m)\n\u001b[0;32m----> 3\u001b[0m arr3 \u001b[38;5;241m=\u001b[39m \u001b[43marr1\u001b[49m\u001b[38;5;241;43m*\u001b[39;49m\u001b[43marr2\u001b[49m\n",
      "\u001b[0;31mValueError\u001b[0m: operands could not be broadcast together with shapes (3,2) (4,4) "
     ]
    }
   ],
   "source": [
    "arr1 = np.zeros((3,2),dtype=int)\n",
    "arr2 = np.zeros((4,4),dtype=int)\n",
    "arr3 = arr1*arr2"
   ]
  },
  {
   "cell_type": "code",
   "execution_count": null,
   "id": "82ff7151",
   "metadata": {},
   "outputs": [],
   "source": [
    "numpy strings function\n",
    "add()\n",
    "multiply()\n",
    "center()\n",
    "capitalize()\n",
    "title()\n",
    "lower()\n",
    "upper()\n",
    "split()\n",
    "splitlines()\n",
    "strip()\n",
    "join()\n",
    "replace()\n"
   ]
  },
  {
   "cell_type": "code",
   "execution_count": 88,
   "id": "876670ee",
   "metadata": {},
   "outputs": [],
   "source": [
    "\n",
    "str1 = np.ones([2,3],dtype='str')\n",
    "str2 = np.ones([2,3],dtype='str')\n",
    "for i in range(0,2):\n",
    "    for j in range(0,3):\n",
    "        str1[i][j] = \"a\"\n",
    "for i in range(0,2):\n",
    "    for j in range(0,3):\n",
    "        str2[i][j] = \"b\""
   ]
  },
  {
   "cell_type": "code",
   "execution_count": 89,
   "id": "0163c8c2",
   "metadata": {},
   "outputs": [
    {
     "name": "stdout",
     "output_type": "stream",
     "text": [
      "[['a' 'a' 'a']\n",
      " ['a' 'a' 'a']]\n",
      "[['A' 'A' 'A']\n",
      " ['A' 'A' 'A']]\n",
      "[[' a ' ' a ' ' a ']\n",
      " [' a ' ' a ' ' a ']]\n",
      "[['A' 'A' 'A']\n",
      " ['A' 'A' 'A']]\n",
      "[['b' 'b' 'b']\n",
      " ['b' 'b' 'b']]\n"
     ]
    }
   ],
   "source": [
    "print(np.char.lower(str1))\n",
    "print(np.char.upper(str1))\n",
    "print(np.char.center(str1,3))\n",
    "print(np.char.title(str1))\n",
    "print(np.char.join(str1,str2))"
   ]
  },
  {
   "cell_type": "code",
   "execution_count": 72,
   "id": "56717a4d",
   "metadata": {},
   "outputs": [],
   "source": [
    "numpy linear algebra functions:\n",
    "dot()\n",
    "vdot()\n",
    "matmul()\n",
    "inner()\n",
    "det()\n",
    "solve()\n",
    "inv()"
   ]
  },
  {
   "cell_type": "code",
   "execution_count": 96,
   "id": "0e8127ec",
   "metadata": {},
   "outputs": [
    {
     "data": {
      "text/plain": [
       "0.0"
      ]
     },
     "execution_count": 96,
     "metadata": {},
     "output_type": "execute_result"
    }
   ],
   "source": [
    "arr2 = np.ones([2,2],dtype=int)\n",
    "arr2 = np.ones([2,2],dtype=int)\n",
    "np.linalg.det(arr2)"
   ]
  },
  {
   "cell_type": "code",
   "execution_count": 100,
   "id": "4eb4ffef",
   "metadata": {},
   "outputs": [
    {
     "ename": "TypeError",
     "evalue": "_append_dispatcher() missing 1 required positional argument: 'values'",
     "output_type": "error",
     "traceback": [
      "\u001b[0;31m---------------------------------------------------------------------------\u001b[0m",
      "\u001b[0;31mTypeError\u001b[0m                                 Traceback (most recent call last)",
      "Cell \u001b[0;32mIn[100], line 1\u001b[0m\n\u001b[0;32m----> 1\u001b[0m \u001b[43mnp\u001b[49m\u001b[38;5;241;43m.\u001b[39;49m\u001b[43mappend\u001b[49m\u001b[43m(\u001b[49m\u001b[43m(\u001b[49m\u001b[43marr2\u001b[49m\u001b[43m,\u001b[49m\u001b[43marr2\u001b[49m\u001b[43m)\u001b[49m\u001b[43m,\u001b[49m\u001b[43maxis\u001b[49m\u001b[38;5;241;43m=\u001b[39;49m\u001b[38;5;241;43m1\u001b[39;49m\u001b[43m)\u001b[49m\n",
      "File \u001b[0;32m<__array_function__ internals>:179\u001b[0m, in \u001b[0;36mappend\u001b[0;34m(*args, **kwargs)\u001b[0m\n",
      "\u001b[0;31mTypeError\u001b[0m: _append_dispatcher() missing 1 required positional argument: 'values'"
     ]
    }
   ],
   "source": [
    "np.append((arr2,arr2),axis=1)"
   ]
  },
  {
   "cell_type": "code",
   "execution_count": 1,
   "id": "170f4ba0",
   "metadata": {},
   "outputs": [
    {
     "name": "stdout",
     "output_type": "stream",
     "text": [
      "['A', 'C']\n"
     ]
    }
   ],
   "source": [
    "lst = [('A',20),('B',19),('C',22)]\n",
    "def func(lst,age):\n",
    "    names = []\n",
    "    for i in lst:\n",
    "        if i[1] > age:\n",
    "            names.append(i[0])\n",
    "    return names\n",
    "print(func(lst,19))"
   ]
  },
  {
   "cell_type": "code",
   "execution_count": 4,
   "id": "f5bc45bf",
   "metadata": {},
   "outputs": [
    {
     "name": "stdout",
     "output_type": "stream",
     "text": [
      "(0, ('ali', 80))\n"
     ]
    }
   ],
   "source": [
    "def highest(li):\n",
    "    if len(li)==0:\n",
    "        return None\n",
    "    high = 0\n",
    "    for idx, tu in enumerate(li):\n",
    "        if li[high][1] <= tu[1]:\n",
    "            high = idx\n",
    "    return high, li[high]\n",
    "aans = highest(lit)\n",
    "print(ans)"
   ]
  },
  {
   "cell_type": "code",
   "execution_count": 9,
   "id": "62632329",
   "metadata": {},
   "outputs": [
    {
     "name": "stdout",
     "output_type": "stream",
     "text": [
      "2\n"
     ]
    }
   ],
   "source": [
    "lst =  [1,2,3,4,5,6,7]\n",
    "lst.insert(2,7)\n",
    "print(lst.count(7))"
   ]
  },
  {
   "cell_type": "markdown",
   "id": "91d37b25",
   "metadata": {},
   "source": [
    "# After Mid"
   ]
  },
  {
   "cell_type": "code",
   "execution_count": 4,
   "id": "2992e2f1",
   "metadata": {},
   "outputs": [],
   "source": [
    "import pandas as pd"
   ]
  },
  {
   "cell_type": "code",
   "execution_count": 5,
   "id": "4b95ebab",
   "metadata": {},
   "outputs": [],
   "source": [
    "df = pd.read_csv(\"HistoricalPrices.csv\")"
   ]
  },
  {
   "cell_type": "code",
   "execution_count": 6,
   "id": "cd160ce7",
   "metadata": {},
   "outputs": [
    {
     "name": "stdout",
     "output_type": "stream",
     "text": [
      "         Date      Open      High       Low     Close\n",
      "0    12/30/22  33121.61  33152.55  32847.82  33147.25\n",
      "1    12/29/22  33021.43  33293.42  33020.35  33220.80\n",
      "2    12/28/22  33264.76  33379.55  32869.15  32875.71\n",
      "3    12/27/22  33224.23  33387.72  33069.58  33241.56\n",
      "4    12/23/22  32961.06  33226.14  32814.02  33203.93\n",
      "..        ...       ...       ...       ...       ...\n",
      "246  01/07/22  36249.59  36382.84  36111.53  36231.66\n",
      "247  01/06/22  36409.05  36464.19  36200.68  36236.47\n",
      "248  01/05/22  36722.60  36952.65  36400.39  36407.11\n",
      "249  01/04/22  36636.00  36934.84  36636.00  36799.65\n",
      "250  01/03/22  36321.59  36595.82  36246.45  36585.06\n",
      "\n",
      "[251 rows x 5 columns]\n"
     ]
    }
   ],
   "source": [
    "print(df)"
   ]
  },
  {
   "cell_type": "code",
   "execution_count": 14,
   "id": "34e8c761",
   "metadata": {},
   "outputs": [],
   "source": [
    "df = df.rename(columns = {'Open':'Open',' High':'High',' Low':'Low',' Close':'Close'})"
   ]
  },
  {
   "cell_type": "code",
   "execution_count": 13,
   "id": "4140adb0",
   "metadata": {},
   "outputs": [
    {
     "data": {
      "text/html": [
       "<div>\n",
       "<style scoped>\n",
       "    .dataframe tbody tr th:only-of-type {\n",
       "        vertical-align: middle;\n",
       "    }\n",
       "\n",
       "    .dataframe tbody tr th {\n",
       "        vertical-align: top;\n",
       "    }\n",
       "\n",
       "    .dataframe thead th {\n",
       "        text-align: right;\n",
       "    }\n",
       "</style>\n",
       "<table border=\"1\" class=\"dataframe\">\n",
       "  <thead>\n",
       "    <tr style=\"text-align: right;\">\n",
       "      <th></th>\n",
       "      <th>Date</th>\n",
       "      <th>Open</th>\n",
       "      <th>High</th>\n",
       "      <th>Low</th>\n",
       "      <th>Close</th>\n",
       "    </tr>\n",
       "  </thead>\n",
       "  <tbody>\n",
       "    <tr>\n",
       "      <th>0</th>\n",
       "      <td>12/30/22</td>\n",
       "      <td>33121.61</td>\n",
       "      <td>33152.55</td>\n",
       "      <td>32847.82</td>\n",
       "      <td>33147.25</td>\n",
       "    </tr>\n",
       "    <tr>\n",
       "      <th>1</th>\n",
       "      <td>12/29/22</td>\n",
       "      <td>33021.43</td>\n",
       "      <td>33293.42</td>\n",
       "      <td>33020.35</td>\n",
       "      <td>33220.80</td>\n",
       "    </tr>\n",
       "    <tr>\n",
       "      <th>2</th>\n",
       "      <td>12/28/22</td>\n",
       "      <td>33264.76</td>\n",
       "      <td>33379.55</td>\n",
       "      <td>32869.15</td>\n",
       "      <td>32875.71</td>\n",
       "    </tr>\n",
       "    <tr>\n",
       "      <th>3</th>\n",
       "      <td>12/27/22</td>\n",
       "      <td>33224.23</td>\n",
       "      <td>33387.72</td>\n",
       "      <td>33069.58</td>\n",
       "      <td>33241.56</td>\n",
       "    </tr>\n",
       "    <tr>\n",
       "      <th>4</th>\n",
       "      <td>12/23/22</td>\n",
       "      <td>32961.06</td>\n",
       "      <td>33226.14</td>\n",
       "      <td>32814.02</td>\n",
       "      <td>33203.93</td>\n",
       "    </tr>\n",
       "    <tr>\n",
       "      <th>...</th>\n",
       "      <td>...</td>\n",
       "      <td>...</td>\n",
       "      <td>...</td>\n",
       "      <td>...</td>\n",
       "      <td>...</td>\n",
       "    </tr>\n",
       "    <tr>\n",
       "      <th>246</th>\n",
       "      <td>01/07/22</td>\n",
       "      <td>36249.59</td>\n",
       "      <td>36382.84</td>\n",
       "      <td>36111.53</td>\n",
       "      <td>36231.66</td>\n",
       "    </tr>\n",
       "    <tr>\n",
       "      <th>247</th>\n",
       "      <td>01/06/22</td>\n",
       "      <td>36409.05</td>\n",
       "      <td>36464.19</td>\n",
       "      <td>36200.68</td>\n",
       "      <td>36236.47</td>\n",
       "    </tr>\n",
       "    <tr>\n",
       "      <th>248</th>\n",
       "      <td>01/05/22</td>\n",
       "      <td>36722.60</td>\n",
       "      <td>36952.65</td>\n",
       "      <td>36400.39</td>\n",
       "      <td>36407.11</td>\n",
       "    </tr>\n",
       "    <tr>\n",
       "      <th>249</th>\n",
       "      <td>01/04/22</td>\n",
       "      <td>36636.00</td>\n",
       "      <td>36934.84</td>\n",
       "      <td>36636.00</td>\n",
       "      <td>36799.65</td>\n",
       "    </tr>\n",
       "    <tr>\n",
       "      <th>250</th>\n",
       "      <td>01/03/22</td>\n",
       "      <td>36321.59</td>\n",
       "      <td>36595.82</td>\n",
       "      <td>36246.45</td>\n",
       "      <td>36585.06</td>\n",
       "    </tr>\n",
       "  </tbody>\n",
       "</table>\n",
       "<p>251 rows × 5 columns</p>\n",
       "</div>"
      ],
      "text/plain": [
       "         Date      Open      High       Low     Close\n",
       "0    12/30/22  33121.61  33152.55  32847.82  33147.25\n",
       "1    12/29/22  33021.43  33293.42  33020.35  33220.80\n",
       "2    12/28/22  33264.76  33379.55  32869.15  32875.71\n",
       "3    12/27/22  33224.23  33387.72  33069.58  33241.56\n",
       "4    12/23/22  32961.06  33226.14  32814.02  33203.93\n",
       "..        ...       ...       ...       ...       ...\n",
       "246  01/07/22  36249.59  36382.84  36111.53  36231.66\n",
       "247  01/06/22  36409.05  36464.19  36200.68  36236.47\n",
       "248  01/05/22  36722.60  36952.65  36400.39  36407.11\n",
       "249  01/04/22  36636.00  36934.84  36636.00  36799.65\n",
       "250  01/03/22  36321.59  36595.82  36246.45  36585.06\n",
       "\n",
       "[251 rows x 5 columns]"
      ]
     },
     "execution_count": 13,
     "metadata": {},
     "output_type": "execute_result"
    }
   ],
   "source": [
    "df"
   ]
  },
  {
   "cell_type": "code",
   "execution_count": 15,
   "id": "6ea06b05",
   "metadata": {},
   "outputs": [],
   "source": [
    "df['Date'] = pd.to_datetime(df['Date'])"
   ]
  },
  {
   "cell_type": "code",
   "execution_count": 18,
   "id": "174bd6d6",
   "metadata": {},
   "outputs": [],
   "source": [
    "df = df.sort_values(by = 'Date')"
   ]
  },
  {
   "cell_type": "code",
   "execution_count": 20,
   "id": "628e0cc5",
   "metadata": {},
   "outputs": [],
   "source": [
    "from matplotlib import pyplot"
   ]
  },
  {
   "cell_type": "code",
   "execution_count": 31,
   "id": "fd1447ae",
   "metadata": {},
   "outputs": [
    {
     "data": {
      "image/png": "[encoded data removed]",
      "text/plain": [
       "<Figure size 640x480 with 1 Axes>"
      ]
     },
     "metadata": {},
     "output_type": "display_data"
    }
   ],
   "source": [
    "pyplot.plot(df['Date'][::30],df['Close'][::30], label = 'Close')\n",
    "pyplot.plot(df['Date'][::30],df['Low'][::30], label = 'Low')\n",
    "pyplot.plot(df['Date'][::30],df['High'][::30], label = 'High')\n",
    "pyplot.legend()\n",
    "pyplot.show()"
   ]
  },
  {
   "cell_type": "code",
   "execution_count": 35,
   "id": "61f9527e",
   "metadata": {},
   "outputs": [
    {
     "name": "stderr",
     "output_type": "stream",
     "text": [
      "/var/folders/6p/3vcklt4552j3c86hxkylvwnh0000gn/T/ipykernel_947/3066460576.py:7: FutureWarning: The default value of numeric_only in DataFrameGroupBy.mean is deprecated. In a future version, numeric_only will default to False. Either specify numeric_only or select only columns which should be valid for the function.\n",
      "  monthly_mean = df.groupby('Month').mean().reset_index()\n"
     ]
    },
    {
     "data": {
      "text/html": [
       "<div>\n",
       "<style scoped>\n",
       "    .dataframe tbody tr th:only-of-type {\n",
       "        vertical-align: middle;\n",
       "    }\n",
       "\n",
       "    .dataframe tbody tr th {\n",
       "        vertical-align: top;\n",
       "    }\n",
       "\n",
       "    .dataframe thead th {\n",
       "        text-align: right;\n",
       "    }\n",
       "</style>\n",
       "<table border=\"1\" class=\"dataframe\">\n",
       "  <thead>\n",
       "    <tr style=\"text-align: right;\">\n",
       "      <th></th>\n",
       "      <th>Month</th>\n",
       "      <th>Open</th>\n",
       "      <th>High</th>\n",
       "      <th>Low</th>\n",
       "      <th>Close</th>\n",
       "    </tr>\n",
       "  </thead>\n",
       "  <tbody>\n",
       "    <tr>\n",
       "      <th>0</th>\n",
       "      <td>January</td>\n",
       "      <td>35498.130500</td>\n",
       "      <td>35740.910500</td>\n",
       "      <td>35145.955000</td>\n",
       "      <td>35456.145000</td>\n",
       "    </tr>\n",
       "    <tr>\n",
       "      <th>1</th>\n",
       "      <td>February</td>\n",
       "      <td>34687.516316</td>\n",
       "      <td>34906.204211</td>\n",
       "      <td>34362.243684</td>\n",
       "      <td>34648.480526</td>\n",
       "    </tr>\n",
       "    <tr>\n",
       "      <th>2</th>\n",
       "      <td>March</td>\n",
       "      <td>34007.498261</td>\n",
       "      <td>34270.890870</td>\n",
       "      <td>33752.963478</td>\n",
       "      <td>34029.740435</td>\n",
       "    </tr>\n",
       "    <tr>\n",
       "      <th>3</th>\n",
       "      <td>April</td>\n",
       "      <td>34392.094500</td>\n",
       "      <td>34640.367500</td>\n",
       "      <td>34078.481000</td>\n",
       "      <td>34314.990000</td>\n",
       "    </tr>\n",
       "    <tr>\n",
       "      <th>4</th>\n",
       "      <td>May</td>\n",
       "      <td>32364.327143</td>\n",
       "      <td>32668.028095</td>\n",
       "      <td>31996.512857</td>\n",
       "      <td>32379.462857</td>\n",
       "    </tr>\n",
       "  </tbody>\n",
       "</table>\n",
       "</div>"
      ],
      "text/plain": [
       "      Month          Open          High           Low         Close\n",
       "0   January  35498.130500  35740.910500  35145.955000  35456.145000\n",
       "1  February  34687.516316  34906.204211  34362.243684  34648.480526\n",
       "2     March  34007.498261  34270.890870  33752.963478  34029.740435\n",
       "3     April  34392.094500  34640.367500  34078.481000  34314.990000\n",
       "4       May  32364.327143  32668.028095  31996.512857  32379.462857"
      ]
     },
     "execution_count": 35,
     "metadata": {},
     "output_type": "execute_result"
    }
   ],
   "source": [
    "from calendar import month_name\n",
    "\n",
    "# Chronological\n",
    "\n",
    "df['Month'] = pd.Categorical(df['Date'].dt.month_name(),month_name[1:])\n",
    "\n",
    "monthly_mean = df.groupby('Month').mean().reset_index()\n",
    "monthly_mean.head()"
   ]
  },
  {
   "cell_type": "code",
   "execution_count": null,
   "id": "65ea102a",
   "metadata": {},
   "outputs": [],
   "source": []
  }
 ],
 "metadata": {
  "kernelspec": {
   "display_name": "Python 3 (ipykernel)",
   "language": "python",
   "name": "python3"
  },
  "language_info": {
   "codemirror_mode": {
    "name": "ipython",
    "version": 3
   },
   "file_extension": ".py",
   "mimetype": "text/x-python",
   "name": "python",
   "nbconvert_exporter": "python",
   "pygments_lexer": "ipython3",
   "version": "3.10.9"
  }
 },
 "nbformat": 4,
 "nbformat_minor": 5
}
